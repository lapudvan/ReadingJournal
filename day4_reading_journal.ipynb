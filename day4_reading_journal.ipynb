{
 "cells": [
  {
   "cell_type": "markdown",
   "metadata": {},
   "source": [
    "# Day 4 Reading Journal\n",
    "\n",
    "This journal includes several required exercises, but it is meant to encourage active reading more generally.  You should use the journal to take detailed notes, catalog questions, and explore the content from Think Python deeply.\n",
    "\n",
    "Reading: Think Python Chapter 10\n",
    "\n",
    "**Due: Thursday, February 4 at 12 noon**\n",
    "\n"
   ]
  },
  {
   "cell_type": "markdown",
   "metadata": {},
   "source": [
    "## [Chapter 10](http://www.greenteapress.com/thinkpython/html/thinkpython011.html)\n",
    "\n",
    "You may want to review [state diagrams in Chapter 2](http://www.greenteapress.com/thinkpython/html/thinkpython003.html#toc13). [Python Tutor](http://pythontutor.com/) is also helpful for visualizing the state of your program.\n",
    "\n"
   ]
  },
  {
   "cell_type": "markdown",
   "metadata": {},
   "source": [
    "Notes: Two lists with the same elements but in a diffrent order are equivalent but not identical. An object with more than one refrence (more than 1 name) is aliased. Be very careful when editing lists. It may ulter the original list, if forgotten refer to 10.12."
   ]
  },
  {
   "cell_type": "markdown",
   "metadata": {},
   "source": [
    "### Exercise 4  \n",
    "Write a function called `middle` that takes a list and returns a new list that contains all but the first and last elements. So `middle([1,2,3,4])` should return `[2,3]`."
   ]
  },
  {
   "cell_type": "code",
   "execution_count": 16,
   "metadata": {
    "collapsed": false
   },
   "outputs": [
    {
     "name": "stdout",
     "output_type": "stream",
     "text": [
      "[5, 3, 7, 8, 2, 4, 7, 4, 4, 5, 7]\n",
      "[4, 5, 3, 7, 8, 2, 4, 7, 4, 4, 5, 7, 3]\n"
     ]
    }
   ],
   "source": [
    "def middle(List):\n",
    "    \n",
    "    \"\"\" Returns the list without the middle and last character.\n",
    "    >>> middle([1,2,3,4])\n",
    "    [2, 3]\n",
    "    >>> middle([4,5,3,7,8,2,4,7,4,4,5,7,3])\n",
    "    [5,3,7,8,2,4,7,4,4,5,7]\n",
    "    >>> middle (['T','B','I','C','J','O','I','Y','E','C','B','S','Q','S','A','N'])\n",
    "    ['B','I','C','J','O','I','Y','E','C','B','S','Q','S','A']\n",
    "    >>> middle([1])\n",
    "    'List too short'\n",
    "    \"\"\"\n",
    "    if len(List) < 2:\n",
    "        return 'List too short'\n",
    "    else:\n",
    "        return List[1:-1]\n",
    "X = [4,5,3,7,8,2,4,7,4,4,5,7,3]\n",
    "print middle(X)\n",
    "print X"
   ]
  },
  {
   "cell_type": "markdown",
   "metadata": {},
   "source": [
    "### Exercise 5  \n",
    "Write a function called `chop` that takes a list, modifies it by removing the first and last elements, and returns `None`.\n",
    "\n",
    "What is the difference between `middle` and `chop`? Sketch out the program state or take a look at each in Python Tutor."
   ]
  },
  {
   "cell_type": "code",
   "execution_count": 12,
   "metadata": {
    "collapsed": false
   },
   "outputs": [
    {
     "name": "stdout",
     "output_type": "stream",
     "text": [
      "None\n",
      "[6, 3, 8, 0, 2]\n"
     ]
    }
   ],
   "source": [
    "X = [3,6,3,8,0,2,5]\n",
    "def chop(List):\n",
    "    del List[:1]\n",
    "    del List[-1:]\n",
    "    \n",
    "print chop(X)\n",
    "print X\n",
    "#This is diffrent because in Python Tutor it seems to read through \n",
    "#the function twice while it only went the middle function once"
   ]
  },
  {
   "cell_type": "markdown",
   "metadata": {},
   "source": [
    "### Exercise 7  \n",
    "Two words are anagrams if you can rearrange the letters from one to spell the other. Write a function called `is_anagram` that takes two strings and returns `True` if they are anagrams."
   ]
  },
  {
   "cell_type": "code",
   "execution_count": 26,
   "metadata": {
    "collapsed": false
   },
   "outputs": [
    {
     "name": "stdout",
     "output_type": "stream",
     "text": [
      "True\n",
      "False\n"
     ]
    }
   ],
   "source": [
    "def is_anagram(string1, string2):\n",
    "    List1 = list(string1)\n",
    "    List2 = list(string2)\n",
    "    List1.sort()\n",
    "    List2.sort()\n",
    "    \n",
    "    if List1 == List2:\n",
    "        return True\n",
    "    else:\n",
    "        return False\n",
    "print is_anagram('happy', 'pahyp')\n",
    "print is_anagram('happy', 'pahy')"
   ]
  },
  {
   "cell_type": "markdown",
   "metadata": {},
   "source": [
    "### Exercise 8  \n",
    "The (so-called) Birthday Paradox:\n",
    "1. Write a function called `has_duplicates` that takes a list and returns `True` if there is any element that appears more than once. It should not modify the original list.\n",
    "2. If there are 23 students in your class, what are the chances that two of you have the same birthday? You can estimate this probability by generating random samples of 23 birthdays and checking for matches. Hint: you can generate random birthdays with the randint function in the [random module](https://docs.python.org/2/library/random.html).\n",
    "\n",
    "You can read about this problem at http://en.wikipedia.org/wiki/Birthday_paradox, and you can download Allen's solution from http://thinkpython.com/code/birthday.py."
   ]
  },
  {
   "cell_type": "code",
   "execution_count": 16,
   "metadata": {
    "collapsed": false,
    "scrolled": true
   },
   "outputs": [
    {
     "name": "stdout",
     "output_type": "stream",
     "text": [
      "0.519\n"
     ]
    }
   ],
   "source": [
    "import random\n",
    "def has_duplicates(List_of_inputs):\n",
    "    \"\"\" See if there is a duplicate for each item in the list.\n",
    "    >>> has_duplicates([1,2,3,4,5,6,7,8,9,0,1])\n",
    "    True\n",
    "    >>> has_duplicates([1,2,3,4,5,6,7,8,9,0])\n",
    "    False\n",
    "    \"\"\"\n",
    "    return not len(set(List_of_inputs)) == len(List_of_inputs)\n",
    "\n",
    "def random_birthdays():\n",
    "    x = []\n",
    "    for i in range(23):\n",
    "        day = random.randint(1,365)\n",
    "        x.append(day)\n",
    "    return x\n",
    "\n",
    "def find_prob(cases):\n",
    "    p = []\n",
    "    for i in range(cases):\n",
    "        b = random_birthdays()\n",
    "        if has_duplicates(b):\n",
    "            p.append(1)\n",
    "    return (float(len(p)) / float(cases))\n",
    "\n",
    "print find_prob(1000)"
   ]
  },
  {
   "cell_type": "markdown",
   "metadata": {},
   "source": [
    "### Challenge: Exercise 11 (optional)\n",
    "\n",
    "You should read [Chapter 9.1](http://www.greenteapress.com/thinkpython/html/thinkpython010.html) and do Exercise 1 first.\n",
    "\n",
    "To check whether a word is in the word list, you could use the `in` operator, but it would be relatively slow because it searches through the words in order (try it).\n",
    "\n",
    "Because the words are in alphabetical order, we can speed things up with a bisection search (also known as binary search), which is similar to what you do when you look a word up in the dictionary. You start in the middle and check to see whether the word you are looking for comes before the word in the middle of the list. If so, then you search the first half of the list the same way. Otherwise you search the second half.\n",
    "\n",
    "Either way, you cut the remaining search space in half. If the word list has 113,809 words, it will take about 17 steps to find the word or conclude that it’s not there.\n",
    "\n",
    "Write a function called `bisect` that takes a sorted list and a target value and returns the index of the value in the list, if it’s there, or `None` if it’s not.\n",
    "\n",
    "Or you could read the documentation of the `bisect` module and use that! Solution: http://thinkpython.com/code/inlist.py."
   ]
  },
  {
   "cell_type": "code",
   "execution_count": null,
   "metadata": {
    "collapsed": true
   },
   "outputs": [],
   "source": []
  },
  {
   "cell_type": "markdown",
   "metadata": {},
   "source": [
    "## Reading Journal feedback\n",
    "\n",
    "Have any comments on this Reading Journal? Feel free to leave them below and we'll read them when you submit your journal entry. This could include suggestions to improve the exercises, topics you'd like to see covered in class next time, or other feedback.\n",
    "\n",
    "If you have Python questions or run into problems while completing the reading, you should post them to Piazza instead so you can get a quick response before your journal is submitted."
   ]
  },
  {
   "cell_type": "markdown",
   "metadata": {},
   "source": [
    " "
   ]
  }
 ],
 "metadata": {
  "kernelspec": {
   "display_name": "Python 2",
   "language": "python",
   "name": "python2"
  },
  "language_info": {
   "codemirror_mode": {
    "name": "ipython",
    "version": 2
   },
   "file_extension": ".py",
   "mimetype": "text/x-python",
   "name": "python",
   "nbconvert_exporter": "python",
   "pygments_lexer": "ipython2",
   "version": "2.7.6"
  }
 },
 "nbformat": 4,
 "nbformat_minor": 0
}
